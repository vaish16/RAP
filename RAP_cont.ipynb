{
 "cells": [
  {
   "cell_type": "code",
   "execution_count": 1,
   "id": "82d03dae",
   "metadata": {},
   "outputs": [],
   "source": [
    "from gurobipy import *\n"
   ]
  },
  {
   "cell_type": "code",
   "execution_count": 2,
   "id": "7dbe4165",
   "metadata": {},
   "outputs": [],
   "source": [
    "R = ['Carlos','Joe','Monika']\n",
    "J = ['Tester','JavaDeveloper', 'Architect']"
   ]
  },
  {
   "cell_type": "code",
   "execution_count": 3,
   "id": "985354b9",
   "metadata": {},
   "outputs": [],
   "source": [
    "combinations, ms = multidict({\n",
    "    ('Carlos','Tester'):53,\n",
    "    ('Carlos','JavaDeveloper'): 27,\n",
    "    ('Carlos','Architect'):13,\n",
    "    ('Joe','Tester'):80,\n",
    "    ('Joe','JavaDeveloper'): 47,\n",
    "    ('Joe','Architect'):67,\n",
    "    ('Monika','Tester'):53,\n",
    "    ('Monika','JavaDeveloper'): 73,\n",
    "    ('Monika','Architect'):47\n",
    "})"
   ]
  },
  {
   "cell_type": "code",
   "execution_count": 6,
   "id": "d29a5341",
   "metadata": {},
   "outputs": [],
   "source": [
    "m = Model('RAP')\n",
    "x = m.addVars(combinations, name=\"assign\")\n",
    "jobs = m.addConstrs((x.sum('*',j) == 1 for j in J), 'job')\n",
    "resources = m.addConstrs((x.sum(r,'*') <= 1 for r in R), 'resource')"
   ]
  },
  {
   "cell_type": "code",
   "execution_count": 7,
   "id": "e6d916fb",
   "metadata": {},
   "outputs": [],
   "source": [
    "m.setObjective(x.prod(ms), GRB.MAXIMIZE)"
   ]
  },
  {
   "cell_type": "code",
   "execution_count": 8,
   "id": "53a52f6b",
   "metadata": {},
   "outputs": [],
   "source": [
    "m.write('RAP.lp')"
   ]
  },
  {
   "cell_type": "code",
   "execution_count": 9,
   "id": "66b029dd",
   "metadata": {},
   "outputs": [
    {
     "name": "stdout",
     "output_type": "stream",
     "text": [
      "Gurobi Optimizer version 10.0.3 build v10.0.3rc0 (mac64[x86])\n",
      "\n",
      "CPU model: Intel(R) Core(TM) i5-5257U CPU @ 2.70GHz\n",
      "Thread count: 2 physical cores, 4 logical processors, using up to 4 threads\n",
      "\n",
      "Optimize a model with 6 rows, 9 columns and 18 nonzeros\n",
      "Model fingerprint: 0xb343b6eb\n",
      "Coefficient statistics:\n",
      "  Matrix range     [1e+00, 1e+00]\n",
      "  Objective range  [1e+01, 8e+01]\n",
      "  Bounds range     [0e+00, 0e+00]\n",
      "  RHS range        [1e+00, 1e+00]\n",
      "Presolve time: 0.04s\n",
      "Presolved: 6 rows, 9 columns, 18 nonzeros\n",
      "\n",
      "Iteration    Objective       Primal Inf.    Dual Inf.      Time\n",
      "       0    4.6000000e+32   1.800000e+31   4.600000e+02      0s\n",
      "       5    1.9300000e+02   0.000000e+00   0.000000e+00      0s\n",
      "\n",
      "Solved in 5 iterations and 0.11 seconds (0.00 work units)\n",
      "Optimal objective  1.930000000e+02\n"
     ]
    }
   ],
   "source": [
    "m.optimize()"
   ]
  },
  {
   "cell_type": "code",
   "execution_count": 11,
   "id": "c91ebe1c",
   "metadata": {},
   "outputs": [
    {
     "name": "stdout",
     "output_type": "stream",
     "text": [
      "assign[Carlos,Tester] 1.0\n",
      "assign[Carlos,JavaDeveloper] 0.0\n",
      "assign[Carlos,Architect] 0.0\n",
      "assign[Joe,Tester] 0.0\n",
      "assign[Joe,JavaDeveloper] 0.0\n",
      "assign[Joe,Architect] 1.0\n",
      "assign[Monika,Tester] 0.0\n",
      "assign[Monika,JavaDeveloper] 1.0\n",
      "assign[Monika,Architect] 0.0\n",
      "total ms 193.0\n"
     ]
    }
   ],
   "source": [
    "for v in m.getVars():\n",
    "    print(v.varName, v.x)\n",
    "        \n",
    "print('total ms', m.objVal)"
   ]
  },
  {
   "cell_type": "code",
   "execution_count": null,
   "id": "cddb08d4",
   "metadata": {},
   "outputs": [],
   "source": []
  }
 ],
 "metadata": {
  "kernelspec": {
   "display_name": "Python 3 (ipykernel)",
   "language": "python",
   "name": "python3"
  },
  "language_info": {
   "codemirror_mode": {
    "name": "ipython",
    "version": 3
   },
   "file_extension": ".py",
   "mimetype": "text/x-python",
   "name": "python",
   "nbconvert_exporter": "python",
   "pygments_lexer": "ipython3",
   "version": "3.11.3"
  }
 },
 "nbformat": 4,
 "nbformat_minor": 5
}
