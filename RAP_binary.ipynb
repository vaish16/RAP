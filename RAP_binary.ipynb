{
 "cells": [
  {
   "cell_type": "code",
   "execution_count": 1,
   "id": "82d03dae",
   "metadata": {},
   "outputs": [],
   "source": [
    "from gurobipy import *\n"
   ]
  },
  {
   "cell_type": "code",
   "execution_count": 2,
   "id": "7dbe4165",
   "metadata": {},
   "outputs": [],
   "source": [
    "R = ['Carlos','Joe','Monika']\n",
    "J = ['Tester','JavaDeveloper', 'Architect']"
   ]
  },
  {
   "cell_type": "code",
   "execution_count": 3,
   "id": "985354b9",
   "metadata": {},
   "outputs": [],
   "source": [
    "combinations, ms, C = multidict({\n",
    "    ('Carlos','Tester'):[53,1],\n",
    "    ('Carlos','JavaDeveloper'): [27,1],\n",
    "    ('Carlos','Architect'):[13,1],\n",
    "    ('Joe','Tester'):[80,2],\n",
    "    ('Joe','JavaDeveloper'): [47,2],\n",
    "    ('Joe','Architect'):[67,2],\n",
    "    ('Monika','Tester'):[53,3],\n",
    "    ('Monika','JavaDeveloper'): [73,3],\n",
    "    ('Monika','Architect'):[47,3]\n",
    "})\n",
    "\n",
    "B=5"
   ]
  },
  {
   "cell_type": "code",
   "execution_count": 14,
   "id": "d29a5341",
   "metadata": {},
   "outputs": [],
   "source": [
    "m = Model('RAP')\n",
    "#x = m.addVars(combinations, name=\"assign\")\n",
    "x = m.addVars(combinations, vtype=GRB.BINARY, name=\"assign\")\n",
    "g = m.addVars(J, name=\"gap\")\n",
    "jobs = m.addConstrs((x.sum('*',j) + g[j] == 1 for j in J), 'job')\n",
    "resources = m.addConstrs((x.sum(r,'*') <= 1 for r in R), 'resource')\n",
    "budget = m.addConstr((x.prod(C) <= B), 'budget')"
   ]
  },
  {
   "cell_type": "code",
   "execution_count": 15,
   "id": "e6d916fb",
   "metadata": {},
   "outputs": [],
   "source": [
    "BIGM = 101\n",
    "m.setObjective(x.prod(ms) -BIGM*g.sum(), GRB.MAXIMIZE)"
   ]
  },
  {
   "cell_type": "code",
   "execution_count": 16,
   "id": "53a52f6b",
   "metadata": {},
   "outputs": [],
   "source": [
    "m.write('RAP2.lp')"
   ]
  },
  {
   "cell_type": "code",
   "execution_count": 17,
   "id": "66b029dd",
   "metadata": {},
   "outputs": [
    {
     "name": "stdout",
     "output_type": "stream",
     "text": [
      "Gurobi Optimizer version 10.0.3 build v10.0.3rc0 (mac64[x86])\n",
      "\n",
      "CPU model: Intel(R) Core(TM) i5-5257U CPU @ 2.70GHz\n",
      "Thread count: 2 physical cores, 4 logical processors, using up to 4 threads\n",
      "\n",
      "Optimize a model with 7 rows, 12 columns and 30 nonzeros\n",
      "Model fingerprint: 0xa1231a12\n",
      "Variable types: 3 continuous, 9 integer (9 binary)\n",
      "Coefficient statistics:\n",
      "  Matrix range     [1e+00, 3e+00]\n",
      "  Objective range  [1e+01, 1e+02]\n",
      "  Bounds range     [1e+00, 1e+00]\n",
      "  RHS range        [1e+00, 5e+00]\n",
      "Presolve time: 0.00s\n",
      "Presolved: 7 rows, 12 columns, 30 nonzeros\n",
      "Variable types: 0 continuous, 12 integer (12 binary)\n",
      "Found heuristic solution: objective 52.0000000\n",
      "\n",
      "Root relaxation: objective 1.350000e+02, 4 iterations, 0.00 seconds (0.00 work units)\n",
      "\n",
      "    Nodes    |    Current Node    |     Objective Bounds      |     Work\n",
      " Expl Unexpl |  Obj  Depth IntInf | Incumbent    BestBd   Gap | It/Node Time\n",
      "\n",
      "     0     0  135.00000    0    2   52.00000  135.00000   160%     -    0s\n",
      "     0     0     cutoff    0        52.00000   52.00000  0.00%     -    0s\n",
      "\n",
      "Cutting planes:\n",
      "  Gomory: 1\n",
      "  GUB cover: 1\n",
      "  RLT: 1\n",
      "\n",
      "Explored 1 nodes (6 simplex iterations) in 0.10 seconds (0.00 work units)\n",
      "Thread count was 4 (of 4 available processors)\n",
      "\n",
      "Solution count 1: 52 \n",
      "\n",
      "Optimal solution found (tolerance 1.00e-04)\n",
      "Best objective 5.200000000000e+01, best bound 5.200000000000e+01, gap 0.0000%\n"
     ]
    }
   ],
   "source": [
    "m.optimize()"
   ]
  },
  {
   "cell_type": "code",
   "execution_count": 18,
   "id": "c91ebe1c",
   "metadata": {},
   "outputs": [
    {
     "name": "stdout",
     "output_type": "stream",
     "text": [
      "assign[Carlos,Tester] -0.0\n",
      "assign[Carlos,JavaDeveloper] -0.0\n",
      "assign[Carlos,Architect] -0.0\n",
      "assign[Joe,Tester] 1.0\n",
      "assign[Joe,JavaDeveloper] -0.0\n",
      "assign[Joe,Architect] -0.0\n",
      "assign[Monika,Tester] -0.0\n",
      "assign[Monika,JavaDeveloper] 1.0\n",
      "assign[Monika,Architect] -0.0\n",
      "gap[Tester] 0.0\n",
      "gap[JavaDeveloper] 0.0\n",
      "gap[Architect] 1.0\n",
      "total ms 52.0\n"
     ]
    }
   ],
   "source": [
    "for v in m.getVars():\n",
    "    print(v.varName, v.x)\n",
    "        \n",
    "print('total ms', m.objVal)"
   ]
  },
  {
   "cell_type": "code",
   "execution_count": null,
   "id": "cddb08d4",
   "metadata": {},
   "outputs": [],
   "source": []
  }
 ],
 "metadata": {
  "kernelspec": {
   "display_name": "Python 3 (ipykernel)",
   "language": "python",
   "name": "python3"
  },
  "language_info": {
   "codemirror_mode": {
    "name": "ipython",
    "version": 3
   },
   "file_extension": ".py",
   "mimetype": "text/x-python",
   "name": "python",
   "nbconvert_exporter": "python",
   "pygments_lexer": "ipython3",
   "version": "3.11.3"
  }
 },
 "nbformat": 4,
 "nbformat_minor": 5
}
